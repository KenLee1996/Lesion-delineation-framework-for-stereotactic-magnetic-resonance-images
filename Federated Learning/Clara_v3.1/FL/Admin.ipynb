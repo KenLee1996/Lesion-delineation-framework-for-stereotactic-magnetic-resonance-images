{
  "cells": [
    {
      "cell_type": "markdown",
      "source": "# Running FL Admin to orchestrate an FL Experiment \n\nThis notebook will walk you through the work flow of FL admin who would conduct FL experiments. \nNote this is the only persona that has control over the FL experiments. \nThat is once server and clients have started, lead researcher can run Fl experiments using the CLI through the admin client.\nThe following types of commands are available:\n- Check system operating status\n- View system logs\n- Deploy MMARs (training configuration) to server and clients\n- Start, stop training\n- Clean up training results data (not the training datasets).\n- Shutdown, restart server or clients \n\nThis note book will walk you though how to perform commands above to complete an FL experiment. \n",
      "metadata": {
        "pycharm": {
          "metadata": false
        }
      }
    },
    {
      "cell_type": "markdown",
      "source": "## Prerequisites\n- Ran [Provisioning Notebook](Provisioning.ipynb) and started the server.\n- (Optional) Looked at [Client Notebook](Client.ipynb). \n",
      "metadata": {
        "pycharm": {
          "metadata": false
        }
      }
    },
    {
      "cell_type": "markdown",
      "source": "## Dataset \n\n##### Option 1 \nThis notebook uses a sample dataset (ie. a single image volume of the spleen dataset) provided in the package to train a small neural network for a few epochs. \nThis single file is duplicated 32 times for the training set and 9 times for the validation set to mimic the full spleen dataset. \n",
      "metadata": {
        "pycharm": {
          "metadata": false
        }
      }
    },
    {
      "cell_type": "markdown",
      "source": "##### Option 2  \nYou could do minor changes as recommended in the excersise section to train on the spleen segmentation task. The dataset used is Task09_Spleen.tar from \nthe [Medical Segmentation Decathlon](http://medicaldecathlon.com/). \nPrior to running this notebook the data should be downloaded following \nthe steps in [Data Download Notebook](../../Data_Download.ipynb).",
      "metadata": {
        "pycharm": {
          "metadata": false
        }
      }
    },
    {
      "cell_type": "markdown",
      "source": "##### Option 3  \nYou can use your own dataset with your own mmar. For example using mmar for the domainExample folder.",
      "metadata": {
        "pycharm": {
          "metadata": false
        }
      }
    },
    {
      "cell_type": "markdown",
      "source": "\n### Disclaimer  \nWe will be training a small networks so that both clients can fit the model on 1 gpu. \nTraining will run for a couple of epochs, in order to show the concepts, we are not targeting accuracy.    \n",
      "metadata": {
        "pycharm": {
          "metadata": false
        }
      }
    },
    {
      "cell_type": "markdown",
      "source": "# Lets get started\nIn order to learn how FL works in clara train SDK and have hand on experience for all participant (server, clients, admin), \nwe will start by running all participants from the same docker using different terminals as in image below. \n\u003cbr\u003e\u003cimg src\u003d\"screenShots/Workshop_1Docker.png\" alt\u003d\"Drawing\" style\u003d\"height: 300px;\"/\u003e\u003cbr\u003e \n\n",
      "metadata": {
        "pycharm": {
          "metadata": false
        }
      }
    },
    {
      "cell_type": "markdown",
      "source": "### Recommended JupyterLab setup \nWe recommend you open a multiple terminals as image below. \nThis will allow you to see what is the output for the client and server. \nAs below we have a server terminal and 2 clients on the top right and the admin shell on the bottom right. \nThe Admin tool runs in an interactive shell therefore unfortunately we can\u0027t have cells to run the notebook. \nTherefore, you should leave this notebook on the left in order to follow instructions  \n\u003cbr\u003e\u003cimg src\u003d\"screenShots/JLabLayout.png\" alt\u003d\"Drawing\" style\u003d\"height: 300px;\"/\u003e\u003cbr\u003e\n\nIn order to open terminals you will need to:\n- Click on the folder tab\n- Click + sign\n- Select terminal as shown below\n\u003cbr\u003e\u003cimg src\u003d\"screenShots/openTerminals.png\" alt\u003d\"Drawing\" style\u003d\"height: 300px;\"/\u003e\u003cbr\u003e\n ",
      "metadata": {
        "pycharm": {
          "metadata": false
        }
      }
    },
    {
      "cell_type": "markdown",
      "source": "### Start server, and clients\nIn the server terminal run:\n```\ncd /claraDevDay/FL/project1/server/startup\n./start.sh\n```  \nIn the client1 terminal run:\n```\ncd /claraDevDay/FL/project1/client1/startup\n./start.sh\n```  \nIn the client2 terminal run:\n```\ncd /claraDevDay/FL/project1/client2/startup\n./start.sh\n```  \nIn the Admin terminal run:\n```\ncd /claraDevDay/FL/project1/admin/startup\n./fl_admin.sh\n```  ",
      "metadata": {
        "pycharm": {
          "metadata": false
        }
      }
    },
    {
      "cell_type": "markdown",
      "source": "# Admin Workflow\nBy now the server and 2 clients are running waiting for Lead Researcher to start the experiments. \n\u003cbr\u003e\u003cimg src\u003d\"screenShots/AdminSteps.png\" alt\u003d\"Drawing\" style\u003d\"height: 500px;\"/\u003e\u003cbr\u003e\n\nFigure above shows the steps she needs to preform:\n1. Starting the admin tool and logging in\n1. Check server and client status\n1. Upload MMAR to client and server\n1. Start training \n1. Get Metric \n ",
      "metadata": {
        "pycharm": {
          "metadata": false
        }
      }
    },
    {
      "cell_type": "markdown",
      "source": "Lets start by installing tree to look at directory structures ",
      "metadata": {
        "pycharm": {
          "metadata": false
        }
      }
    },
    {
      "cell_type": "code",
      "execution_count": null,
      "outputs": [],
      "source": "MMAR_DIR\u003d\"/claraDevDay/FL/project1/\"\n#!ln -s /claraDevDay/sampleData /data\n!ln -s /claraDevDay/sampleData /data_4FL\n!apt-get install tree",
      "metadata": {
        "pycharm": {
          "metadata": false,
          "name": "#%%\n"
        }
      }
    },
    {
      "cell_type": "markdown",
      "source": "## 1- Starting Admin Shell\nIn the admin terminal, if you haven\u0027t already started the admin console you should to admin folder in side your project and run\n```\ncd /claraDevDay/FL/project1/admin/startup\n./fl_admin.sh\n``` \nyou should see\n```\nAdmin Server: localhost on port 5000\nUser Name: `\n```\ntype `admin@admin.com` \n\nAdmin Server: localhost on port 5000\nUser Name: admin@admin.com\n\nType ? to list commands; type \"? cmdName\" to show usage of a command.\n\nyou should see \n```\n\u003e ?\nClient Commands\n-------------------------------------------------------------------------------------------\n| SCOPE         | COMMAND         | DESCRIPTION                                           |\n-------------------------------------------------------------------------------------------\n|               | bye             | exit from the client                                  |\n|               | help            | get command help information                          |\n|               | lpwd            | print local work dir of the admin client              |\n| file_transfer | download_binary | download one or more binary files in the download_dir |\n| file_transfer | download_folder | download a folder from the server                     |\n| file_transfer | download_text   | download one or more text files in the download_dir   |\n| file_transfer | info            | show folder setup info                                |\n| file_transfer | upload_folder   | upload a folder to the server                         |\n-------------------------------------------------------------------------------------------\n\nServer Commands\n------------------------------------------------------------------------\n| SCOPE      | COMMAND           | DESCRIPTION                         |\n------------------------------------------------------------------------\n| sys        | sys_info          | get the system info                 |\n| training   | abort             | abort the FL server/client training |\n| training   | check_status      | check_status the FL server/client   |\n| training   | delete_run_number | delete the FL training run number   |\n| training   | deploy            | deploy MMAR to client/server        |\n| training   | restart           | restart the FL server/client        |\n| training   | set_run_number    | set the FL training run number      |\n| training   | set_timeout       | set the admin commands timeout      |\n| training   | shutdown          | shutdown the FL server/client       |\n| training   | start             | start the FL server/client training |\n| utils      | cat               | show content of a file              |\n| utils      | env               | show system environment vars        |\n| utils      | grep              | search for PATTERN in a file.       |\n| utils      | head              | print the first 10 lines of a file  |\n| utils      | ls                | list files in work dir              |\n| utils      | pwd               | print the name of work directory    |\n| utils      | tail              | print the last 10 lines of a file   |\n| validation | taskname          | get the FL taskname                 |\n| validation | validate          | cross sites validation              |\n------------------------------------------------------------------------\n```",
      "metadata": {
        "pycharm": {
          "metadata": false
        }
      }
    },
    {
      "cell_type": "markdown",
      "source": "## 2- Check server/client status\ntype \n```\n\u003e check_status server\n```\nto see \n```\nFL run number has not been set.\nFL server status: training not started\nRegistered clients: 2\n client name:client1    instance name:client1   token: 3c3d2276-c3bf-40c1-bc02-9be84d7c339f \nclient name:client2     instance name:client2   token: 92806548-5515-4977-894e-612900ff8b1b\n```\nTo check on clients type \n```\n\u003e check_status client\n```\nto see \n```\ninstance:client1 : client name: client1 token: 3c3d2276-c3bf-40c1-bc02-9be84d7c339f     status: training not started\ninstance:client2 : client name: client2 token: 92806548-5515-4977-894e-612900ff8b1b     status: training not started\n```\nTo check on folder structure \n\n```\n\u003e info\n```\nTo see\n```\nLocal Upload Source: /claraDevDay/FL/project1/admin/startup/../transfer\nLocal Download Destination: /claraDevDay/FL/project1/admin/startup/../transfer\nServer Upload Destination: /claraDevDay/FL/project1/server/startup/../transfer\nServer Download Source: /claraDevDay/FL/project1/server/startup/../transfer\n```",
      "metadata": {
        "pycharm": {
          "metadata": false
        }
      }
    },
    {
      "cell_type": "markdown",
      "source": "## 3- Upload files to server staging \n\nTo upload files \n```\n\u003e upload_folder ../../../adminMMAR\n```\nOr if you already have a MMAR ready (as from teh DomainExample folder) you should copy it to transfer folder then run \n```\n\u003e upload_folder \u003cmy MMAR from DomainExmaples\u003e\n```\nThis will create folder on server/ transfer \n```\nCreated folder /claraDevDay/FL/project1/server/startup/../transfer/adminMMAR\n```\n\nWe can verify that files has been transferred to staging \n",
      "metadata": {
        "pycharm": {
          "metadata": false
        }
      }
    },
    {
      "cell_type": "code",
      "execution_count": null,
      "outputs": [],
      "source": "!tree $MMAR_DIR/server/transfer\n",
      "metadata": {
        "pycharm": {
          "metadata": false,
          "name": "#%%\n"
        }
      }
    },
    {
      "cell_type": "markdown",
      "source": "## 4- Deploy from server staging into a run in the server and client  \nFolder is not on the server staging area in `transfer` folder. \nwe need to create a run then copy this folder into the server and client.\n\n1. `\u003e set_run_number 1`\n2. `\u003e deploy adminMMAR server`\n3. `\u003e deploy adminMMAR client`  For all clients OR\n    1. `\u003e deploy adminMMAR client client1`  --\u003e to copy only for client1\n\nWe can verify that files has been transferred to server and clients ",
      "metadata": {
        "pycharm": {
          "metadata": false,
          "name": "#%% md\n"
        }
      }
    },
    {
      "cell_type": "code",
      "execution_count": null,
      "outputs": [],
      "source": "!tree $MMAR_DIR/server/run_1",
      "metadata": {
        "pycharm": {
          "metadata": false,
          "name": "#%%\n"
        }
      }
    },
    {
      "cell_type": "code",
      "execution_count": null,
      "outputs": [],
      "source": "!tree $MMAR_DIR/client1/run_1",
      "metadata": {
        "pycharm": {
          "metadata": false,
          "name": "#%%\n"
        }
      }
    },
    {
      "cell_type": "code",
      "execution_count": null,
      "outputs": [],
      "source": "!tree $MMAR_DIR/client2/run_1",
      "metadata": {
        "pycharm": {
          "metadata": false,
          "name": "#%%\n"
        }
      }
    },
    {
      "cell_type": "markdown",
      "source": "\n## 5- Start Training\nNow you can start training by:\n1. `\u003e start server`\n2. `\u003e start client`\n\nYou can check on the status of the training using:\n1. `\u003e check_status client` or `\u003e check_status server`  to see \n```\n\u003e check_status server\nFL run number:1\nFL server status: training started\nrun number:1    start round:0   max round:20    current round:0\nmin_num_clients:1       max_num_clients:100\nRegistered clients: 1\n client name:client1    instance name:client1   token: 3eb835cc-2359-4683-8a0a-3083abf2e5d2\n```\n2. get logs from clients using `cat server log.txt`\n\n",
      "metadata": {
        "pycharm": {
          "metadata": false,
          "name": "#%% md\n"
        }
      }
    },
    {
      "cell_type": "markdown",
      "source": "## 6- Stop Training (if needed ) \nYou could send signals to stop the training if you need to using:\n- `abort client`\n- `abort server`\n\n",
      "metadata": {
        "pycharm": {
          "metadata": false
        }
      }
    },
    {
      "cell_type": "markdown",
      "source": "## 7- Cross site validate\nOnce training is completed, you would like to get the validation matrices. \nThis is another area where Clara FL shines. \nSince the true power of FL is to get teh off diagonal values, which show that the model generalizes across sites. \nBefore you needed to move either hte data or the selected model to each site and run validataion. \nNow with cross site validation feature it is done automatically for you.\nAll you need to do is have the file `config_cross_site_validataion.json` as part of your MMAR, and have set the flag \n`\"cross_site_validate\": true` in the client section of the config_fed_client.json. \nThese settings is already set up in this example so all if left is to\n\nRun `validate all` to pull the result back to the server, you could also run `validate source_site target_site`\n\nYou should see something like \n```\nvalidate all\n{\u0027client1\u0027: {\u0027client2\u0027: {\u0027validation\u0027: {\u0027mean_dice\u0027: 0.0637669786810875}}, \u0027client1\u0027: {\u0027validation\u0027: {\u0027mean_dice\u0027: 0.07123523205518723}}, \u0027server\u0027: {\u0027validation\u0027: {\u0027mean_dice\u0027: 0.07032141834497452}}}, \u0027client2\u0027: {\u0027client2\u0027: {\u0027validation\u0027: {\u0027mean_dice\u0027: 0.06376668065786362}}, \u0027client1\u0027: {\u0027validation\u0027: {\u0027mean_dice\u0027: 0.07123514264822006}}, \u0027server\u0027: {\u0027validation\u0027: {\u0027mean_dice\u0027: 0.07032135874032974}}}}\nDone [11570 usecs] 2020-09-03 18:49:41.485214\n``` \nparsing this json and putting it in a table would look like \nMetric \u003d validation mean_dice \n\n _ | Client 1 | Client 2 | Server  \n :--- | :--- | :---: | --- \nClient 1 | 0.07123523205518723 | 0.0637669786810875 | 0.07032141834497452\nClient 2 | 0.07123514264822006 | 0.06376668065786362| 0.07032135874032974\n",
      "metadata": {
        "pycharm": {
          "metadata": false
        }
      }
    },
    {
      "cell_type": "markdown",
      "source": "## 8- Check models in your model dir \nAfter training is completed you can check the models in the model folder of the mmar. \nNote each client will have slitly different model as each client selects the best model for his own validataion data. \nAlso the FL server will have a different model in the model folder.  \n\nRunning cell below will show you the model folder in for a client and server ",
      "metadata": {
        "pycharm": {
          "metadata": false
        }
      }
    },
    {
      "cell_type": "code",
      "execution_count": null,
      "outputs": [],
      "source": "!tree $MMAR_DIR/server/run_1",
      "metadata": {
        "pycharm": {
          "metadata": false,
          "name": "#%%\n"
        }
      }
    },
    {
      "cell_type": "code",
      "execution_count": null,
      "outputs": [],
      "source": "!tree $MMAR_DIR/client1/run_1\n",
      "metadata": {
        "pycharm": {
          "metadata": false,
          "name": "#%%\n"
        }
      }
    },
    {
      "cell_type": "markdown",
      "source": "## 9- (Optional) restart clients \nIf something happens with one of your client related to gpu issues, memory, temp disk space.\n You can restart the server or client using\n- `restart client`\n- `restart server`\n",
      "metadata": {
        "pycharm": {
          "metadata": false
        }
      }
    },
    {
      "cell_type": "markdown",
      "source": "## 10- Finally shut down client and servers \nIf you are done with all experiments you can shut down client and servers.\n- `shutdown client`\n- `shutdown server`\n\n__Note: this will kill the client/server connection, \nfor any new experiments you will need to contact client sites to run the start.sh again__\n",
      "metadata": {
        "pycharm": {
          "metadata": false
        }
      }
    },
    {
      "cell_type": "markdown",
      "source": "# Next steps:\nYou can now move to more advanced features of FL by running [Admin BYOC Notebook](Admin_BYOC.ipynb)\n",
      "metadata": {
        "pycharm": {
          "metadata": false
        }
      }
    },
    {
      "cell_type": "markdown",
      "source": "# Exercise:\n1. You could change the dataset to use the spleen data set already downloaded by following Follow [Data Download Notebook](../../Data_Download.ipynb). \nthings you would want to change:\n    1. Make sure to split the data between different clients.\n    1. Change number of `local_epochs` in the config_fed_client.json to a higher number \n    ```\n        \"client\": {\n        \"local_epochs\": 5,\n    ``` \n    1. Change parameters in the config_fed_server.json as how many rounds:\n    ```\n        \"min_num_clients\": 1,\n        \"max_num_clients\": 100,\n        \"start_round\": 0,\n        \"num_rounds\": 2,  --\u003e Number of training rounds \n        \"num_rounds_per_valid\": 1, --\u003e how often to run validation on clients\n    ```",
      "metadata": {
        "pycharm": {
          "metadata": false
        }
      }
    }
  ],
  "metadata": {
    "kernelspec": {
      "display_name": "Python 3",
      "language": "python",
      "name": "python3"
    },
    "language_info": {
      "codemirror_mode": {
        "name": "ipython",
        "version": 3
      },
      "file_extension": ".py",
      "mimetype": "text/x-python",
      "name": "python",
      "nbconvert_exporter": "python",
      "pygments_lexer": "ipython3",
      "version": "3.6.8"
    },
    "stem_cell": {
      "cell_type": "raw",
      "source": "\u003c!--- SPDX-License-Identifier: Apache-2.0 --\u003e\n",
      "metadata": {
        "pycharm": {
          "metadata": false
        }
      }
    }
  },
  "nbformat": 4,
  "nbformat_minor": 4
}