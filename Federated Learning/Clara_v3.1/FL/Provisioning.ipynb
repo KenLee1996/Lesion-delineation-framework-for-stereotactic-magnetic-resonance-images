{
  "cells": [
    {
      "cell_type": "markdown",
      "source": "# Provisioning Federated learning (FL) Tool \n\nFL has been simplified in V3.1 to have a provisioning tool that allows admins to:\n- Configure FL experiment\n- Send startup packages to FL clients (password protected zip file)\n\nBy the end of this notebook you would be able to provision an FL experiment and start the server.   \n",
      "metadata": {
        "pycharm": {
          "metadata": false
        }
      }
    },
    {
      "cell_type": "markdown",
      "source": "## Prerequisites\n- Running this notebook from within clara docker following setup in [readMe.md](../../readMe.md)\n- Provisioning doesn\u0027t require GPUs. \n   ",
      "metadata": {
        "pycharm": {
          "metadata": false
        }
      }
    },
    {
      "cell_type": "markdown",
      "source": "### Resources\nYou could watch the free GTC 2020 talks covering Clara Train SDK \n- [Clara Developer Day: Federated Learning using Clara Train SDK](https://developer.nvidia.com/gtc/2020/video/S22564)\n ",
      "metadata": {
        "pycharm": {
          "metadata": false
        }
      }
    },
    {
      "cell_type": "markdown",
      "source": "## DataSet \nNo dataset is used in this notebook\n",
      "metadata": {
        "pycharm": {
          "metadata": false
        }
      }
    },
    {
      "cell_type": "markdown",
      "source": "# Lets get started\nCell below defines functions that we will use throughout the notebook",
      "metadata": {
        "pycharm": {
          "metadata": false
        }
      }
    },
    {
      "cell_type": "code",
      "execution_count": null,
      "outputs": [],
      "source": "def listDirs(newMMARDir):\n    !ls $newMMARDir\n    !echo ----config\n    !ls $newMMARDir/config\n    !echo ----commands\n    !ls $newMMARDir/commands\ndef printFile(filePath,lnSt,lnOffset):\n    print (\"showing \",str(lnOffset),\" lines from file \",filePath, \"starting at line\",str(lnSt))\n    lnOffset\u003dlnSt+lnOffset\n    !\u003c $filePath head -n \"$lnOffset\" | tail -n +\"$lnSt\"   ",
      "metadata": {
        "pycharm": {
          "metadata": false,
          "name": "#%%\n"
        }
      }
    },
    {
      "cell_type": "markdown",
      "source": "\n# Provisioning Components\nThe provisioning tool is the first step to configure a FL experiment. \nThis consists of creating: \n1. Project yaml file, which defines: project name, participants, server name and other settings\n2. Authorization json file which defines: groups, roles, rights. \n3. Run provisioning tool  \n\n### 1. UI tool to generate project.yaml and authorization.json\nWe have developed a simple html page that would generate the project.yaml and authorization.json files for you.\nSimply open the html or run cell below to see the page. \nYou would need to:\n- Change the servername.\n- Add/remove groups.\n- Add/remove polices\n- Add/remove users \n- Click `Generate artifacts`\n- Click download or copy / past the files as new yaml and json files    \n",
      "metadata": {
        "pycharm": {
          "metadata": false
        }
      }
    },
    {
      "cell_type": "code",
      "execution_count": null,
      "outputs": [],
      "source": "import IPython\nIPython.display.IFrame(\u0027./FLprovUI.html\u0027,width\u003d850,height\u003d700)",
      "metadata": {
        "pycharm": {
          "metadata": false,
          "name": "#%% \n"
        }
      }
    },
    {
      "cell_type": "markdown",
      "source": "### 2 Run Provisioning tool \nFor simplicity we have included a project1.yaml and project1auth.json files for you to use in this notebook.\nIn order to see their content simply run cell below ",
      "metadata": {
        "pycharm": {
          "metadata": false
        }
      }
    },
    {
      "cell_type": "code",
      "execution_count": null,
      "outputs": [],
      "source": "MMAR_ROOT\u003d\"/claraDevDay/FL/\"\nPROV_DIR\u003d\"provisioning\"\nPROJ_NAME\u003d\"project1\"\n\nprintFile(MMAR_ROOT+PROJ_NAME+\".yml\",0,50)\nprint(\"---------------------\")\nprintFile(MMAR_ROOT+PROJ_NAME+\"auth.json\",0,200)",
      "metadata": {
        "pycharm": {
          "metadata": false,
          "name": "#%%\n"
        }
      }
    },
    {
      "cell_type": "markdown",
      "source": "\n### 2.1 Run provisioning tool\nCell below show help on how to use the cli for the provisioning tool ",
      "metadata": {
        "pycharm": {
          "metadata": false
        }
      }
    },
    {
      "cell_type": "code",
      "execution_count": null,
      "outputs": [],
      "source": "!provision -h",
      "metadata": {
        "pycharm": {
          "metadata": false,
          "name": "#%%\n"
        }
      }
    },
    {
      "cell_type": "code",
      "execution_count": null,
      "outputs": [],
      "source": "%cd $MMAR_ROOT\n!rm -r $PROJ_NAME\n%mkdir -p $PROJ_NAME/$PROV_DIR\n# !ln -s /opt/nvidia/medical/tools/project.yml $MMAR_ROOT/project.yml",
      "metadata": {
        "pycharm": {
          "metadata": false,
          "name": "#%%\n"
        }
      }
    },
    {
      "cell_type": "code",
      "execution_count": null,
      "outputs": [],
      "source": "PROJ_PATH\u003dMMAR_ROOT+PROJ_NAME+\"/\"\nPROV_PATH\u003dPROJ_PATH+PROV_DIR+\"/\"\n%cd $PROJ_PATH\n!provision -p $MMAR_ROOT/$PROJ_NAME\u0027.yml\u0027 -o $PROV_DIR -t $PROV_PATH/audit.pkl -a $MMAR_ROOT/$PROJ_NAME\u0027auth.json\u0027\n",
      "metadata": {
        "pycharm": {
          "metadata": false,
          "name": "#%%\n"
        }
      }
    },
    {
      "cell_type": "markdown",
      "source": "### 3. Send startup kits to participants\nIn a real experiment, you would send packages to each site so they would run it on their system. \nHere we would extract and simulate a server, 3 clients and an admin all in this tutorial. \n\nCell above should have printed out passwords for each package. \nYou should replace the password from above cell to the corresponding file in cell below ",
      "metadata": {
        "pycharm": {
          "metadata": false
        }
      }
    },
    {
      "cell_type": "code",
      "execution_count": null,
      "outputs": [],
      "source": "%cd  $PROV_PATH\nserver,client1,client2,client3,client4\u003d\"server\",\"client1\",\"client2\",\"client3\",\"client4\"\nadmin,leadIT,siteResearch,leadITSec\u003d\"admin\",\"leadIT\",\"siteResearch\",\"leadITSec\"\n!unzip -oP Gt70p3kYKoIVfM48 server.zip -d ../$server\n!unzip -oP E9HCjgF6VBMoALrU client1.zip -d ../$client1\n!unzip -oP mXoq4RdhItNuDvPe client2.zip -d ../$client2\n!unzip -oP E9HCjgF6VBMoALrU client3.zip -d ../$client3\n!unzip -oP E9HCjgF6VBMoALrU client4.zip -d ../$client4\n!unzip -oP ecpUmT10J0WDhsKu admin@admin.com.zip -d ../$admin\n!unzip -oP ecpUmT10J0WDhsKu leadIT@org1.com.zip -d ../$leadIT\n!unzip -oP ecpUmT10J0WDhsKu siteresearcher@org2.com.zip -d ../$siteResearch\n!unzip -oP ecpUmT10J0WDhsKu leadIT@secure.com.zip -d ../$leadITSec",
      "metadata": {
        "pycharm": {
          "metadata": false,
          "name": "#%%\n"
        }
      }
    },
    {
      "cell_type": "markdown",
      "source": "### 4. Double check on rights before sending kits to clients\n\nAs you may notice creating users and rights could be a bit tricky with large number of clients (20+).\nSpecially if each client has different requirements. \nIn order to make this task a bit easier, \nwe have created a checking tool where you pass the authorization.json, \nthen check that it is doing what you intended to do.\n\nIn order to validate this you can use the shell tool as \n```\ncd /claraDevDay/FL/project1/server/startup\nauthz_preview -p authorization.json\n```  \n\nThis would open an interactive prompt. You can type `?` to see list of commands as \n\n```\n\u003e?\n\nDocumented commands (type help \u003ctopic\u003e):\n\u003d\u003d\u003d\u003d\u003d\u003d\u003d\u003d\u003d\u003d\u003d\u003d\u003d\u003d\u003d\u003d\u003d\u003d\u003d\u003d\u003d\u003d\u003d\u003d\u003d\u003d\u003d\u003d\u003d\u003d\u003d\u003d\u003d\u003d\u003d\u003d\u003d\u003d\u003d\u003d\nbye  help\n\nUndocumented commands:\n\u003d\u003d\u003d\u003d\u003d\u003d\u003d\u003d\u003d\u003d\u003d\u003d\u003d\u003d\u003d\u003d\u003d\u003d\u003d\u003d\u003d\u003d\neval_right  eval_user    show_rights  show_site_rules  show_users\neval_rule   show_config  show_rules   show_sites     \n```\n",
      "metadata": {
        "pycharm": {
          "metadata": false
        }
      }
    },
    {
      "cell_type": "markdown",
      "source": "You can use `show_users` to find all users. \nThen in order to see rules for a certain site you can type\n`eval_user \u003cuser\u003e \u003corg name\u003e`\nyou should see something similar to \n```\n-------------------------\n| RIGHT        | RESULT |\n-------------------------\n| upload_mmar  | True   |\n| deploy_self  | False  |\n| deploy_all   | False  |\n| train_self   | False  |\n| train_all    | False  |\n| view_self    | False  |\n| view_all     | False  |\n| operate_all  | False  |\n| operate_self | False  |\n-------------------------\n```",
      "metadata": {
        "pycharm": {
          "metadata": false
        }
      }
    },
    {
      "cell_type": "markdown",
      "source": "In our sample client4 doens\u0027t allow anyone to upload any mmars. You can check by \n`eval_user leadIT@org1.com client4`\nvs `eval_user leadIT@org1.com client1`\n\nbut user `leadIT@secure.com` can upload to client4. You can check by \n`eval_user leadIT@secure.com client4`",
      "metadata": {
        "pycharm": {
          "metadata": false
        }
      }
    },
    {
      "cell_type": "markdown",
      "source": "You could also verify only one specific right using \n```\neval_right leadIT@org1.com deploy_self client4\n```\n",
      "metadata": {
        "pycharm": {
          "metadata": false
        }
      }
    },
    {
      "cell_type": "markdown",
      "source": "# Next steps \n1. You should run the [admin notebook](Admin.ipynb) to start your FL experiment.\n2. You may want to take a look at the [client notebook](Client.ipynb)\n\n",
      "metadata": {
        "pycharm": {
          "metadata": false
        }
      }
    },
    {
      "cell_type": "markdown",
      "source": "# Exercise \n\n1. Provision your own FL experiment. For this you should \n    1. Make a copy of `project1.yml` as `\u003cyourproject.yml\u003e` to and modify it with your client names and emails\n    2. Get your server host name using any of the commands below \n    ```\n    hostname\n    hostnamectl\n    cat /proc/sys/kernel/hostname\n    ```\n    3. In the yml file change the cn name to the server name as \n    ```\n    server:\n      cn: \u003cyour server name \u003e\n    ``` \n    4. Continue steps in the notebook ",
      "metadata": {
        "pycharm": {
          "metadata": false
        }
      }
    }
  ],
  "metadata": {
    "kernelspec": {
      "display_name": "Python 3",
      "language": "python",
      "name": "python3"
    },
    "language_info": {
      "codemirror_mode": {
        "name": "ipython",
        "version": 3
      },
      "file_extension": ".py",
      "mimetype": "text/x-python",
      "name": "python",
      "nbconvert_exporter": "python",
      "pygments_lexer": "ipython3",
      "version": "3.6.8"
    },
    "stem_cell": {
      "cell_type": "raw",
      "source": "\u003c!--- SPDX-License-Identifier: Apache-2.0 --\u003e\n",
      "metadata": {
        "pycharm": {
          "metadata": false
        }
      }
    }
  },
  "nbformat": 4,
  "nbformat_minor": 4
}