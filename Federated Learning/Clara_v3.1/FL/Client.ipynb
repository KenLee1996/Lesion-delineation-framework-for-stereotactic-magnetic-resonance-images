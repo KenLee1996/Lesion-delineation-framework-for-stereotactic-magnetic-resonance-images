{
  "cells": [
    {
      "cell_type": "markdown",
      "source": "# FL client Joining FL experiment \n\nThe purpose of this notebook is to walk a client participating in a FL experiment.\n     ",
      "metadata": {
        "pycharm": {
          "metadata": false
        }
      }
    },
    {
      "cell_type": "markdown",
      "source": "## Prerequisites\n- Should have received a provisioning package with password.  \n- Extracted it as in the last cell of provisioning notebook (or run first cell in this notebook).   \n",
      "metadata": {
        "pycharm": {
          "metadata": false
        }
      }
    },
    {
      "cell_type": "markdown",
      "source": "## Setup your DataSet \n- Docker start script will map your data to `/dataset` folder \n- Each client will need to set a file named `dataset.json`  \n\nThis notebook uses sample dataset (Single image of spleen dataset) provided in the package to train small networks for a couple of epochs. \nThis single file is duplicated 32 times in the training set and 9 times to mimic the full spleen data set. ",
      "metadata": {
        "pycharm": {
          "metadata": false
        }
      }
    },
    {
      "cell_type": "markdown",
      "source": "#### Disclaimer  \n",
      "metadata": {
        "pycharm": {
          "metadata": false
        }
      }
    },
    {
      "cell_type": "markdown",
      "source": "# Lets get started\n\nIf you followed the provisioning notebook, you have already unzipped packages for all clients. \nOtherwise you should start by unzipping the provisioning package if you haven\u0027t already done so. \nYou should use `unzip -oP \u003cpassword\u003e filename.zip -d \u003cdirectoryToUnzip\u003e`\n\nLets start by installing tree to look at directory structures",
      "metadata": {
        "pycharm": {
          "metadata": false
        }
      }
    },
    {
      "cell_type": "code",
      "execution_count": null,
      "outputs": [],
      "source": "!apt-get install tree\n",
      "metadata": {
        "pycharm": {
          "metadata": false,
          "name": "#%% \n"
        }
      }
    },
    {
      "cell_type": "markdown",
      "source": "Lets examine what is in the package \n",
      "metadata": {
        "pycharm": {
          "metadata": false
        }
      }
    },
    {
      "cell_type": "code",
      "execution_count": null,
      "outputs": [],
      "source": "MMAR_DIR\u003d\"/claraDevDay/FL/project1/client1/\"",
      "metadata": {
        "pycharm": {
          "metadata": false,
          "name": "#%%\n"
        }
      }
    },
    {
      "cell_type": "markdown",
      "source": "",
      "metadata": {
        "pycharm": {
          "metadata": false
        }
      }
    },
    {
      "cell_type": "markdown",
      "source": "## 1- Starting the Docker for the Client \nInside the startup folder you should edit the docker.sh file then run it to start the docker.",
      "metadata": {
        "pycharm": {
          "metadata": false
        }
      }
    },
    {
      "cell_type": "markdown",
      "source": "Docker start expects:\n1. Dataset to be mapped as /dataset\n2. dataset.json file to be in /dataset/dataset.json\n\nYou should modify the top part of the file and edit:\n```\nMY_DATA_DIR\u003d/mydata/\n```\nyou may want to limit/change the number of GPU exposed to the docker\n",
      "metadata": {
        "pycharm": {
          "metadata": false
        }
      }
    },
    {
      "cell_type": "code",
      "execution_count": null,
      "outputs": [],
      "source": "!cat $MMAR_DIR/startup/docker.sh \n",
      "metadata": {
        "pycharm": {
          "metadata": false,
          "name": "#%%\n"
        }
      }
    },
    {
      "cell_type": "markdown",
      "source": "it should look like \n```\n#!/bin/bash\nMY_DATA_DIR\u003d/raid\n# for all gpus use line below \n#GPU2USE\u003dall   \n# for 2 gpus use line below\n#GPU2USE\u003d2  \n# for specific gpus as gpu#0 and gpu#2 use line below\nGPU2USE\u003d\u0027\"device\u003d0,2\"\u0027\n\nDOCKER_IMAGE\u003d\u003c\u003clatest clara image will change from one release to another\u003e\u003e\necho \"Starting docker with $DOCKER_IMAGE\"\ndocker run --rm -it --name\u003dclient1 \\\n--gpus $GPU2USE \\\n-u $(id -u):$(id -g) -v /etc/passwd:/etc/passwd -v /etc/group:/etc/group \\\n-v $PWD/..:/workspace/ \\\n-v $MY_DATA_DIR:/data/ \\\n-w /workspace/ \\\n--shm-size\u003d1g --ulimit memlock\u003d-1 --ulimit stack\u003d67108864 \\\n$DOCKER_IMAGE \\\n/bin/bash\n```\n\n## 2- Check network connection to server   \nYou should run cell below and get the server name and port from the `target` tag ",
      "metadata": {
        "pycharm": {
          "metadata": false
        }
      }
    },
    {
      "cell_type": "code",
      "execution_count": null,
      "outputs": [],
      "source": "!cat $MMAR_DIR/startup/fed_client.json",
      "metadata": {
        "pycharm": {
          "metadata": false,
          "name": "#%%\n"
        }
      }
    },
    {
      "cell_type": "markdown",
      "source": "Run telnet with server port. \nYou should see a connection established and it is waiting for your input. \nSimply escape out of it. \nrunning below cell should give an error as \n```\nTrying 127.0.0.1...\nTrying ::1...\ntelnet: Unable to connect to remote host: Cannot assign requested address\n```",
      "metadata": {
        "pycharm": {
          "metadata": false,
          "name": "#%% md\n"
        }
      }
    },
    {
      "cell_type": "code",
      "execution_count": null,
      "outputs": [],
      "source": "!telnet localhost 8000",
      "metadata": {
        "pycharm": {
          "metadata": false,
          "name": "#%%\n"
        }
      }
    },
    {
      "cell_type": "markdown",
      "source": "A successful connection should give message as below.\n```\nTrying 3.135.235.198...\nConnected to ec2-3-135-235-198.us-east-2.compute.amazonaws.com.\nEscape character is \u0027^]\u0027.\n```",
      "metadata": {
        "pycharm": {
          "metadata": false,
          "name": "#%% md\n"
        }
      }
    },
    {
      "cell_type": "code",
      "execution_count": null,
      "outputs": [],
      "source": "!telnet ec2-3-135-235-198.us-east-2.compute.amazonaws.com 8002",
      "metadata": {
        "pycharm": {
          "metadata": false,
          "name": "#%%\n"
        }
      }
    },
    {
      "cell_type": "markdown",
      "source": "See list of commands in the end of this notebook to debug network issues",
      "metadata": {
        "pycharm": {
          "metadata": false
        }
      }
    },
    {
      "cell_type": "markdown",
      "source": "## 2b Find your external IP (Optional)\nIn some cases, administrators of the federated server would like to limit network traffic to the clients IPs. \nThis would be through adding client IPs in a white list. \nTherefore, as a client, you would be required to provide your external ip.\nYou can simply visit [https://whatismyipaddress.com/](https://whatismyipaddress.com/) or you could run cell below",
      "metadata": {
        "pycharm": {
          "metadata": false
        }
      }
    },
    {
      "cell_type": "code",
      "execution_count": null,
      "outputs": [],
      "source": "!curl ifconfig.co\n!curl icanhazip.com\n!curl ifconfig.me",
      "metadata": {
        "pycharm": {
          "metadata": false,
          "name": "#%%\n"
        }
      }
    },
    {
      "cell_type": "markdown",
      "source": "## 3- Create your data file (Most Important Step) \nThis is the only think clients need to worry about. Create your data list json file. \nto simulate this we can create a symbolic link to spleen data we have downloaded from the performance script ",
      "metadata": {
        "pycharm": {
          "metadata": false,
          "name": "#%% md\n"
        }
      }
    },
    {
      "cell_type": "code",
      "execution_count": null,
      "outputs": [],
      "source": "!ln -s /claraDevDay/spleenData/Task09_Spleen /data\n",
      "metadata": {
        "pycharm": {
          "metadata": false,
          "name": "#%%\n"
        }
      }
    },
    {
      "cell_type": "markdown",
      "source": "Now run cell below to verify that all files exist and are in the correct path  ",
      "metadata": {
        "pycharm": {
          "metadata": false,
          "name": "#%% md\n"
        }
      }
    },
    {
      "cell_type": "code",
      "execution_count": null,
      "outputs": [],
      "source": "dataset\u003d\"/data/dataset.json\"\nfolder\u003d\"/data/\"\n!ls $folder\n#!cat $dataset\n",
      "metadata": {
        "pycharm": {
          "metadata": false,
          "name": "#%%\n"
        }
      }
    },
    {
      "cell_type": "markdown",
      "source": "You should make sure that all files exist in the right location by running cell below",
      "metadata": {
        "pycharm": {
          "metadata": false
        }
      }
    },
    {
      "cell_type": "code",
      "execution_count": null,
      "outputs": [],
      "source": "!python /opt/nvidia/medical/ai4med/tools/check_image_files.pyc -d $dataset -f $folder\n",
      "metadata": {
        "pycharm": {
          "metadata": false,
          "name": "#%%\n"
        }
      }
    },
    {
      "cell_type": "markdown",
      "source": "## 4- Starting the Client \n\nYou should run either: \n- `./start.sh` if you plan to use single gpu \n- `./start_mgpu.sh \u003cnumber_of_GPUS\u003e ` if you plan to run with multiple GPUs \n",
      "metadata": {
        "pycharm": {
          "metadata": false
        }
      }
    },
    {
      "cell_type": "code",
      "execution_count": null,
      "outputs": [],
      "source": "!$MMAR_DIR/startup/start.sh\n ",
      "metadata": {
        "pycharm": {
          "metadata": false,
          "name": "#%%\n"
        }
      }
    },
    {
      "cell_type": "markdown",
      "source": "## List of helpful command for network debugging:   \n- `telnet \u003cserverName\u003e \u003cport\u003e` \n- `traceroute -P \u003cport\u003e \u003cserverName\u003e`  you could increase maximum hops if needed using `-m \u003cMaxhops\u003e` \n- `ping \u003cservername\u003e` make sure the serve name is resolved to and ip as below\n```\nping ec2-3-135-235-198.us-east-2.compute.amazonaws.com\nPING ec2-3-135-235-198.us-east-2.compute.amazonaws.com (18.224.5.19) 56(84) bytes of data.\n```\n-  `ping \u003cserverIP\u003e` use this to rule out problems with your DNS \n",
      "metadata": {
        "pycharm": {
          "metadata": false
        }
      }
    }
  ],
  "metadata": {
    "kernelspec": {
      "display_name": "Python 3",
      "language": "python",
      "name": "python3"
    },
    "language_info": {
      "codemirror_mode": {
        "name": "ipython",
        "version": 3
      },
      "file_extension": ".py",
      "mimetype": "text/x-python",
      "name": "python",
      "nbconvert_exporter": "python",
      "pygments_lexer": "ipython3",
      "version": "3.6.8"
    },
    "stem_cell": {
      "cell_type": "raw",
      "source": "\u003c!--- SPDX-License-Identifier: Apache-2.0 --\u003e\n",
      "metadata": {
        "pycharm": {
          "metadata": false
        }
      }
    }
  },
  "nbformat": 4,
  "nbformat_minor": 4
}