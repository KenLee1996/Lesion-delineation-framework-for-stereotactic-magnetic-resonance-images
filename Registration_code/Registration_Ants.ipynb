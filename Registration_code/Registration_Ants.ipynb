{
 "cells": [
  {
   "cell_type": "code",
   "execution_count": 1,
   "id": "5326fef5",
   "metadata": {},
   "outputs": [],
   "source": [
    "import os\n",
    "import ants\n",
    "import numpy as np\n",
    "import nibabel as nib\n",
    "\n",
    "def para_ants_regis(temppath,sourcepath):\n",
    "    #output_path = sourcepath\n",
    "    fix_path = temppath\n",
    "    move_path = sourcepath\n",
    "\n",
    "    fix_image = ants.image_read(fix_path, dimension=3)\n",
    "    move_image = ants.image_read(move_path, dimension=3)\n",
    "    registrationpara2para = ants.registration(fixed=fix_image, moving=move_image,\n",
    "                                              type_of_transform = 'Affine',\n",
    "                                              regIterations = (2000, 500, 500, 0),\n",
    "                                              grad_step=0.1, aff_metric='mattes',\n",
    "                                              aff_sampling=32,\n",
    "                                              verbose = False, outprefix = output_path+'/ants_para')\n",
    "    ants.image_write(registrationpara2para['warpedmovout'], output_path)"
   ]
  },
  {
   "cell_type": "code",
   "execution_count": null,
   "id": "8d0d4695",
   "metadata": {},
   "outputs": [],
   "source": [
    "template_path = 'path and filename of nifti file that would like to be template'\n",
    "source_path = 'path and filename of nifti file that you want to registrate to template'\n",
    "output_path = 'path and filename of affined nifti file'\n",
    "\n",
    "para_ants_regis(template_path, source_path, output_path)\n",
    "print(sub)"
   ]
  }
 ],
 "metadata": {
  "kernelspec": {
   "display_name": "Python 3 (ipykernel)",
   "language": "python",
   "name": "python3"
  },
  "language_info": {
   "codemirror_mode": {
    "name": "ipython",
    "version": 3
   },
   "file_extension": ".py",
   "mimetype": "text/x-python",
   "name": "python",
   "nbconvert_exporter": "python",
   "pygments_lexer": "ipython3",
   "version": "3.8.10"
  }
 },
 "nbformat": 4,
 "nbformat_minor": 5
}
