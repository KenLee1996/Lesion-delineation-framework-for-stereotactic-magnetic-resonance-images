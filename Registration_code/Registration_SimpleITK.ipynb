{
 "cells": [
  {
   "cell_type": "code",
   "execution_count": null,
   "id": "4498c377",
   "metadata": {},
   "outputs": [],
   "source": [
    "import os\n",
    "import numpy as np\n",
    "import nibabel as nib\n",
    "import SimpleITK as sitk\n",
    "\n",
    "def registration(fix_path, moving_path, output_path):\n",
    "    \n",
    "    # read files\n",
    "    fixed_image = sitk.ReadImage(fix_path, sitk.sitkFloat64)\n",
    "    moving_image = sitk.ReadImage(moving_path, sitk.sitkFloat64)\n",
    "    \n",
    "    # define parameters for registration\n",
    "    initial_transform = sitk.CenteredTransformInitializer(\n",
    "        fixed_image,\n",
    "        moving_image,\n",
    "        sitk.Euler3DTransform(),\n",
    "        sitk.CenteredTransformInitializerFilter.GEOMETRY)\n",
    "    registration_method = sitk.ImageRegistrationMethod()\n",
    "    registration_method.SetMetricAsMattesMutualInformation(numberOfHistogramBins=50)  \n",
    "    registration_method.SetMetricSamplingStrategy(registration_method.RANDOM)\n",
    "    registration_method.SetMetricSamplingPercentage(0.01)\n",
    "    registration_method.SetInterpolator(sitk.sitkBSpline3)\n",
    "    registration_method.SetOptimizerAsGradientDescent(\n",
    "        learningRate=1.0,\n",
    "        numberOfIterations=100,\n",
    "        convergenceMinimumValue=1e-6,\n",
    "        convergenceWindowSize=10)\n",
    "    registration_method.SetOptimizerScalesFromPhysicalShift()\n",
    "    registration_method.SetShrinkFactorsPerLevel(shrinkFactors=[4, 2, 1])\n",
    "    registration_method.SetSmoothingSigmasPerLevel(smoothingSigmas=[2, 1, 0])\n",
    "    registration_method.SmoothingSigmasAreSpecifiedInPhysicalUnitsOn()    \n",
    "    registration_method.SetInitialTransform(initial_transform, inPlace=False)\n",
    "    final_transform = registration_method.Execute(fixed_image , moving_image)\n",
    "    print(registration_method.GetOptimizerStopConditionDescription())\n",
    "    \n",
    "    # resample and save the source image\n",
    "    out = sitk.Resample(moving_image, fixed_image, final_transform, \n",
    "                        sitk.sitkBSpline, 0.0, moving_image.GetPixelID())    \n",
    "    out = sitk.Cast(out, sitk.sitkFloat64)    \n",
    "    sitk.WriteImage(out, output_path)"
   ]
  },
  {
   "cell_type": "code",
   "execution_count": null,
   "id": "b0ba3c52",
   "metadata": {},
   "outputs": [],
   "source": [
    "template_path = 'path and filename of nifti file that would like to be template'\n",
    "source_path = 'path and filename of nifti file that you want to registrate to template'\n",
    "output_path = 'path and filename of affined nifti file'\n",
    "\n",
    "registration(template_path, source_path, output_path)"
   ]
  }
 ],
 "metadata": {
  "kernelspec": {
   "display_name": "Python 3 (ipykernel)",
   "language": "python",
   "name": "python3"
  },
  "language_info": {
   "codemirror_mode": {
    "name": "ipython",
    "version": 3
   },
   "file_extension": ".py",
   "mimetype": "text/x-python",
   "name": "python",
   "nbconvert_exporter": "python",
   "pygments_lexer": "ipython3",
   "version": "3.8.10"
  }
 },
 "nbformat": 4,
 "nbformat_minor": 5
}
