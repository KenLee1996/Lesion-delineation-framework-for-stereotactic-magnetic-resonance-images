{
 "cells": [
  {
   "cell_type": "code",
   "execution_count": 1,
   "metadata": {},
   "outputs": [
    {
     "name": "stdout",
     "output_type": "stream",
     "text": [
      "Collecting numpy==1.22.3\n",
      "  Downloading numpy-1.22.3-cp310-cp310-win_amd64.whl (14.7 MB)\n",
      "     ---------------------------------------- 14.7/14.7 MB 5.7 MB/s eta 0:00:00\n",
      "Requirement already satisfied: scikit-image==0.19.3 in c:\\users\\samho\\anaconda3\\envs\\pytorch_venv\\lib\\site-packages (from -r requirements.txt (line 2)) (0.19.3)\n",
      "Requirement already satisfied: pydicom==2.3.1 in c:\\users\\samho\\anaconda3\\envs\\pytorch_venv\\lib\\site-packages (from -r requirements.txt (line 3)) (2.3.1)\n",
      "Collecting nibabel==5.0.1\n",
      "  Downloading nibabel-5.0.1-py3-none-any.whl (3.3 MB)\n",
      "     ---------------------------------------- 3.3/3.3 MB 5.2 MB/s eta 0:00:00\n",
      "Requirement already satisfied: pillow!=7.1.0,!=7.1.1,!=8.3.0,>=6.1.0 in c:\\users\\samho\\anaconda3\\envs\\pytorch_venv\\lib\\site-packages (from scikit-image==0.19.3->-r requirements.txt (line 2)) (9.5.0)\n",
      "Requirement already satisfied: tifffile>=2019.7.26 in c:\\users\\samho\\anaconda3\\envs\\pytorch_venv\\lib\\site-packages (from scikit-image==0.19.3->-r requirements.txt (line 2)) (2023.4.12)\n",
      "Requirement already satisfied: scipy>=1.4.1 in c:\\users\\samho\\anaconda3\\envs\\pytorch_venv\\lib\\site-packages (from scikit-image==0.19.3->-r requirements.txt (line 2)) (1.10.1)\n",
      "Requirement already satisfied: packaging>=20.0 in c:\\users\\samho\\anaconda3\\envs\\pytorch_venv\\lib\\site-packages (from scikit-image==0.19.3->-r requirements.txt (line 2)) (23.1)\n",
      "Requirement already satisfied: imageio>=2.4.1 in c:\\users\\samho\\anaconda3\\envs\\pytorch_venv\\lib\\site-packages (from scikit-image==0.19.3->-r requirements.txt (line 2)) (2.28.1)\n",
      "Requirement already satisfied: PyWavelets>=1.1.1 in c:\\users\\samho\\anaconda3\\envs\\pytorch_venv\\lib\\site-packages (from scikit-image==0.19.3->-r requirements.txt (line 2)) (1.4.1)\n",
      "Requirement already satisfied: networkx>=2.2 in c:\\users\\samho\\anaconda3\\envs\\pytorch_venv\\lib\\site-packages (from scikit-image==0.19.3->-r requirements.txt (line 2)) (3.1)\n",
      "Requirement already satisfied: setuptools in c:\\users\\samho\\anaconda3\\envs\\pytorch_venv\\lib\\site-packages (from nibabel==5.0.1->-r requirements.txt (line 4)) (65.6.3)\n",
      "Installing collected packages: numpy, nibabel\n",
      "  Attempting uninstall: numpy\n",
      "    Found existing installation: numpy 1.22.4\n",
      "    Uninstalling numpy-1.22.4:\n",
      "      Successfully uninstalled numpy-1.22.4\n",
      "  Attempting uninstall: nibabel\n",
      "    Found existing installation: nibabel 5.0.0\n",
      "    Uninstalling nibabel-5.0.0:\n",
      "      Successfully uninstalled nibabel-5.0.0\n",
      "Successfully installed nibabel-5.0.1 numpy-1.22.3\n"
     ]
    },
    {
     "name": "stderr",
     "output_type": "stream",
     "text": [
      "ERROR: pip's dependency resolver does not currently take into account all the packages that are installed. This behaviour is the source of the following dependency conflicts.\n",
      "dicomrttool 2.0.8 requires setuptools~=62.1.0, but you have setuptools 65.6.3 which is incompatible.\n",
      "dicomrttool 2.0.8 requires tqdm~=4.64.0, but you have tqdm 4.65.0 which is incompatible.\n"
     ]
    }
   ],
   "source": [
    "# 安裝所需套件\n",
    "!pip install -r requirements.txt"
   ]
  },
  {
   "cell_type": "code",
   "execution_count": null,
   "metadata": {},
   "outputs": [],
   "source": [
    "# 主程式為RTSS_to_NIfTI.py\n",
    "\n",
    "# 以下為必須輸入參數:\n",
    "# --dicom-path: DICOM檔案所在的位置，裡面僅可有一組series且須包含對應的RTSS檔案\n",
    "# --output-path: NIfTI結果輸出的位置\n",
    "\n",
    "# 以下為選擇輸入參數:\n",
    "# --single-class: 這個tag作用為是否要確保輸出後的label mask只有一個類別，及僅包含0和1的數值\n",
    "# --save-in-split: 這個tag作用為是否要將輸出多個NIfTI檔案，分別為RTSS內的每種ROI"
   ]
  },
  {
   "cell_type": "code",
   "execution_count": 3,
   "metadata": {},
   "outputs": [
    {
     "data": {
      "text/plain": [
       "CompletedProcess(args=['python', './RTSS_to_NIfTI.py', '--dicom-path', 'C:\\\\Users\\\\samho\\\\OneDrive\\\\Desktop\\\\RTSStest\\\\Anonymous-0112102894628715\\\\Anonymous-0112102894628715', '--output-path', 'C:\\\\Users\\\\samho\\\\OneDrive\\\\Desktop\\\\RTSStest\\\\nii_split', '--save-in-split'], returncode=1)"
      ]
     },
     "execution_count": 3,
     "metadata": {},
     "output_type": "execute_result"
    }
   ],
   "source": [
    "# 使用方式\n",
    "\n",
    "import subprocess\n",
    "\n",
    "# 指定DICOM以及結果路徑\n",
    "dicom_path = r'C:\\Users\\samho\\OneDrive\\Desktop\\RTSStest\\Anonymous-0112102894628715\\Anonymous-0112102894628715'\n",
    "output_path = r'C:\\Users\\samho\\OneDrive\\Desktop\\RTSStest\\nii_split'\n",
    "\n",
    "# run the script\n",
    "command = ['python', './RTSS_to_NIfTI.py', \\\n",
    "           '--dicom-path', dicom_path, \\\n",
    "            '--output-path', output_path,\n",
    "            '--save-in-split']\n",
    "\n",
    "try:\n",
    "    # 執行外部命令\n",
    "    output = subprocess.check_output(command, stderr=subprocess.STDOUT, universal_newlines=True)\n",
    "    # 處理正常情況下的輸出\n",
    "    print(output)\n",
    "except subprocess.CalledProcessError as e:\n",
    "    # 處理錯誤情況下的輸出\n",
    "    print(\"外部命令執行錯誤，退出狀態碼：\", e.returncode)\n",
    "    print(\"錯誤訊息：\", e.output)"
   ]
  }
 ],
 "metadata": {
  "kernelspec": {
   "display_name": "pytorch_nightly",
   "language": "python",
   "name": "python3"
  },
  "language_info": {
   "codemirror_mode": {
    "name": "ipython",
    "version": 3
   },
   "file_extension": ".py",
   "mimetype": "text/x-python",
   "name": "python",
   "nbconvert_exporter": "python",
   "pygments_lexer": "ipython3",
   "version": "3.8.13"
  },
  "orig_nbformat": 4
 },
 "nbformat": 4,
 "nbformat_minor": 2
}
